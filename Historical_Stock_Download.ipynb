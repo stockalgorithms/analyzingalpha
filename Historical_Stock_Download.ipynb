{
  "nbformat": 4,
  "nbformat_minor": 0,
  "metadata": {
    "colab": {
      "name": "Historical Stock Download.ipynb",
      "provenance": [],
      "authorship_tag": "ABX9TyMT7yuprlqH2g1bGLAEycDx",
      "include_colab_link": true
    },
    "kernelspec": {
      "name": "python3",
      "display_name": "Python 3"
    }
  },
  "cells": [
    {
      "cell_type": "markdown",
      "metadata": {
        "id": "view-in-github",
        "colab_type": "text"
      },
      "source": [
        "<a href=\"https://colab.research.google.com/github/stockalgorithms/analyzingalpha/blob/master/Historical_Stock_Download.ipynb\" target=\"_parent\"><img src=\"https://colab.research.google.com/assets/colab-badge.svg\" alt=\"Open In Colab\"/></a>"
      ]
    },
    {
      "cell_type": "code",
      "metadata": {
        "id": "zR0iLrjNJJfH",
        "outputId": "67632471-e32e-4167-a048-40079e023713",
        "colab": {
          "base_uri": "https://localhost:8080/",
          "height": 649
        }
      },
      "source": [
        "!pip install DateTime\n",
        "!pip install yfinance"
      ],
      "execution_count": 4,
      "outputs": [
        {
          "output_type": "stream",
          "text": [
            "Collecting DateTime\n",
            "\u001b[?25l  Downloading https://files.pythonhosted.org/packages/73/22/a5297f3a1f92468cc737f8ce7ba6e5f245fcfafeae810ba37bd1039ea01c/DateTime-4.3-py2.py3-none-any.whl (60kB)\n",
            "\r\u001b[K     |█████▌                          | 10kB 10.1MB/s eta 0:00:01\r\u001b[K     |███████████                     | 20kB 2.8MB/s eta 0:00:01\r\u001b[K     |████████████████▍               | 30kB 3.5MB/s eta 0:00:01\r\u001b[K     |█████████████████████▉          | 40kB 3.8MB/s eta 0:00:01\r\u001b[K     |███████████████████████████▎    | 51kB 3.2MB/s eta 0:00:01\r\u001b[K     |████████████████████████████████| 61kB 2.6MB/s \n",
            "\u001b[?25hRequirement already satisfied: pytz in /usr/local/lib/python3.6/dist-packages (from DateTime) (2018.9)\n",
            "Collecting zope.interface\n",
            "\u001b[?25l  Downloading https://files.pythonhosted.org/packages/c5/89/1eb9dbb9e24f5e2c29ab1a88097b2f1333858aac3cd3cccc6c4c1c8ad867/zope.interface-5.1.2-cp36-cp36m-manylinux2010_x86_64.whl (236kB)\n",
            "\u001b[K     |████████████████████████████████| 245kB 5.5MB/s \n",
            "\u001b[?25hRequirement already satisfied: setuptools in /usr/local/lib/python3.6/dist-packages (from zope.interface->DateTime) (50.3.0)\n",
            "Installing collected packages: zope.interface, DateTime\n",
            "Successfully installed DateTime-4.3 zope.interface-5.1.2\n",
            "Collecting yfinance\n",
            "  Downloading https://files.pythonhosted.org/packages/7a/e8/b9d7104d3a4bf39924799067592d9e59119fcfc900a425a12e80a3123ec8/yfinance-0.1.55.tar.gz\n",
            "Requirement already satisfied: pandas>=0.24 in /usr/local/lib/python3.6/dist-packages (from yfinance) (1.1.2)\n",
            "Requirement already satisfied: numpy>=1.15 in /usr/local/lib/python3.6/dist-packages (from yfinance) (1.18.5)\n",
            "Requirement already satisfied: requests>=2.20 in /usr/local/lib/python3.6/dist-packages (from yfinance) (2.23.0)\n",
            "Requirement already satisfied: multitasking>=0.0.7 in /usr/local/lib/python3.6/dist-packages (from yfinance) (0.0.9)\n",
            "Collecting lxml>=4.5.1\n",
            "\u001b[?25l  Downloading https://files.pythonhosted.org/packages/64/28/0b761b64ecbd63d272ed0e7a6ae6e4402fc37886b59181bfdf274424d693/lxml-4.6.1-cp36-cp36m-manylinux1_x86_64.whl (5.5MB)\n",
            "\u001b[K     |████████████████████████████████| 5.5MB 5.5MB/s \n",
            "\u001b[?25hRequirement already satisfied: pytz>=2017.2 in /usr/local/lib/python3.6/dist-packages (from pandas>=0.24->yfinance) (2018.9)\n",
            "Requirement already satisfied: python-dateutil>=2.7.3 in /usr/local/lib/python3.6/dist-packages (from pandas>=0.24->yfinance) (2.8.1)\n",
            "Requirement already satisfied: urllib3!=1.25.0,!=1.25.1,<1.26,>=1.21.1 in /usr/local/lib/python3.6/dist-packages (from requests>=2.20->yfinance) (1.24.3)\n",
            "Requirement already satisfied: certifi>=2017.4.17 in /usr/local/lib/python3.6/dist-packages (from requests>=2.20->yfinance) (2020.6.20)\n",
            "Requirement already satisfied: chardet<4,>=3.0.2 in /usr/local/lib/python3.6/dist-packages (from requests>=2.20->yfinance) (3.0.4)\n",
            "Requirement already satisfied: idna<3,>=2.5 in /usr/local/lib/python3.6/dist-packages (from requests>=2.20->yfinance) (2.10)\n",
            "Requirement already satisfied: six>=1.5 in /usr/local/lib/python3.6/dist-packages (from python-dateutil>=2.7.3->pandas>=0.24->yfinance) (1.15.0)\n",
            "Building wheels for collected packages: yfinance\n",
            "  Building wheel for yfinance (setup.py) ... \u001b[?25l\u001b[?25hdone\n",
            "  Created wheel for yfinance: filename=yfinance-0.1.55-py2.py3-none-any.whl size=22618 sha256=4f354edaac2ac427fc5a8b0fdf619bd6f010c8ce1e9865618a8ef2089ce9cb96\n",
            "  Stored in directory: /root/.cache/pip/wheels/04/98/cc/2702a4242d60bdc14f48b4557c427ded1fe92aedf257d4565c\n",
            "Successfully built yfinance\n",
            "Installing collected packages: lxml, yfinance\n",
            "  Found existing installation: lxml 4.2.6\n",
            "    Uninstalling lxml-4.2.6:\n",
            "      Successfully uninstalled lxml-4.2.6\n",
            "Successfully installed lxml-4.6.1 yfinance-0.1.55\n"
          ],
          "name": "stdout"
        }
      ]
    },
    {
      "cell_type": "code",
      "metadata": {
        "id": "ka6slZS2IZLU"
      },
      "source": [
        "import pandas as pd\n",
        "import yfinance as yf\n",
        "import datetime\n",
        "import time\n",
        "import requests\n",
        "import io"
      ],
      "execution_count": 5,
      "outputs": []
    },
    {
      "cell_type": "code",
      "metadata": {
        "id": "6BhPPOmTIczj"
      },
      "source": [
        "start = datetime.datetime(2020,2,1)\n",
        "end = datetime.datetime(2020,10,11)"
      ],
      "execution_count": 6,
      "outputs": []
    },
    {
      "cell_type": "code",
      "metadata": {
        "id": "uhlJax5HIiQj"
      },
      "source": [
        "url=\"https://pkgstore.datahub.io/core/nasdaq-listings/nasdaq-listed_csv/data/7665719fb51081ba0bd834fde71ce822/nasdaq-listed_csv.csv\"\n",
        "s = requests.get(url).content\n",
        "companies = pd.read_csv(io.StringIO(s.decode('utf-8')))"
      ],
      "execution_count": 7,
      "outputs": []
    },
    {
      "cell_type": "code",
      "metadata": {
        "id": "iRiexrVrIp1m",
        "outputId": "fadcd912-16b1-47f3-c341-386698577d2d",
        "colab": {
          "base_uri": "https://localhost:8080/",
          "height": 204
        }
      },
      "source": [
        "companies.head(5)"
      ],
      "execution_count": 9,
      "outputs": [
        {
          "output_type": "execute_result",
          "data": {
            "text/html": [
              "<div>\n",
              "<style scoped>\n",
              "    .dataframe tbody tr th:only-of-type {\n",
              "        vertical-align: middle;\n",
              "    }\n",
              "\n",
              "    .dataframe tbody tr th {\n",
              "        vertical-align: top;\n",
              "    }\n",
              "\n",
              "    .dataframe thead th {\n",
              "        text-align: right;\n",
              "    }\n",
              "</style>\n",
              "<table border=\"1\" class=\"dataframe\">\n",
              "  <thead>\n",
              "    <tr style=\"text-align: right;\">\n",
              "      <th></th>\n",
              "      <th>Symbol</th>\n",
              "      <th>Company Name</th>\n",
              "      <th>Security Name</th>\n",
              "      <th>Market Category</th>\n",
              "      <th>Test Issue</th>\n",
              "      <th>Financial Status</th>\n",
              "      <th>Round Lot Size</th>\n",
              "    </tr>\n",
              "  </thead>\n",
              "  <tbody>\n",
              "    <tr>\n",
              "      <th>0</th>\n",
              "      <td>AAIT</td>\n",
              "      <td>iShares MSCI All Country Asia Information Tech...</td>\n",
              "      <td>iShares MSCI All Country Asia Information Tech...</td>\n",
              "      <td>G</td>\n",
              "      <td>N</td>\n",
              "      <td>N</td>\n",
              "      <td>100.0</td>\n",
              "    </tr>\n",
              "    <tr>\n",
              "      <th>1</th>\n",
              "      <td>AAL</td>\n",
              "      <td>American Airlines Group, Inc.</td>\n",
              "      <td>American Airlines Group, Inc. - Common Stock</td>\n",
              "      <td>Q</td>\n",
              "      <td>N</td>\n",
              "      <td>N</td>\n",
              "      <td>100.0</td>\n",
              "    </tr>\n",
              "    <tr>\n",
              "      <th>2</th>\n",
              "      <td>AAME</td>\n",
              "      <td>Atlantic American Corporation</td>\n",
              "      <td>Atlantic American Corporation - Common Stock</td>\n",
              "      <td>G</td>\n",
              "      <td>N</td>\n",
              "      <td>N</td>\n",
              "      <td>100.0</td>\n",
              "    </tr>\n",
              "    <tr>\n",
              "      <th>3</th>\n",
              "      <td>AAOI</td>\n",
              "      <td>Applied Optoelectronics, Inc.</td>\n",
              "      <td>Applied Optoelectronics, Inc. - Common Stock</td>\n",
              "      <td>G</td>\n",
              "      <td>N</td>\n",
              "      <td>N</td>\n",
              "      <td>100.0</td>\n",
              "    </tr>\n",
              "    <tr>\n",
              "      <th>4</th>\n",
              "      <td>AAON</td>\n",
              "      <td>AAON, Inc.</td>\n",
              "      <td>AAON, Inc. - Common Stock</td>\n",
              "      <td>Q</td>\n",
              "      <td>N</td>\n",
              "      <td>N</td>\n",
              "      <td>100.0</td>\n",
              "    </tr>\n",
              "  </tbody>\n",
              "</table>\n",
              "</div>"
            ],
            "text/plain": [
              "  Symbol  ... Round Lot Size\n",
              "0   AAIT  ...          100.0\n",
              "1    AAL  ...          100.0\n",
              "2   AAME  ...          100.0\n",
              "3   AAOI  ...          100.0\n",
              "4   AAON  ...          100.0\n",
              "\n",
              "[5 rows x 7 columns]"
            ]
          },
          "metadata": {
            "tags": []
          },
          "execution_count": 9
        }
      ]
    },
    {
      "cell_type": "code",
      "metadata": {
        "id": "9IXQ_dhZJ_N0"
      },
      "source": [
        "Symbols = companies['Symbol'].tolist()"
      ],
      "execution_count": 10,
      "outputs": []
    },
    {
      "cell_type": "code",
      "metadata": {
        "id": "CQPNfeEOKoQr",
        "outputId": "1cb56469-16d7-4826-a315-e3c575163526",
        "colab": {
          "base_uri": "https://localhost:8080/"
        }
      },
      "source": [
        "# create empty dataframe\n",
        "stock_final = pd.DataFrame()\n",
        "# iterate over each symbol\n",
        "for i in Symbols:  \n",
        "    \n",
        "    # print the symbol which is being downloaded\n",
        "    print( str(Symbols.index(i)) + str(' : ') + i, sep=',', end=',', flush=True)  \n",
        "    \n",
        "    try:\n",
        "        # download the stock price \n",
        "        stock = []\n",
        "        stock = yf.download(i,start=start, end=end, progress=False)\n",
        "        \n",
        "        # append the individual stock prices \n",
        "        if len(stock) == 0:\n",
        "            None\n",
        "        else:\n",
        "            stock['Name']=i\n",
        "            stock_final = stock_final.append(stock,sort=False)\n",
        "    except Exception:\n",
        "        None"
      ],
      "execution_count": 15,
      "outputs": [
        {
          "output_type": "stream",
          "text": [
            "1578 : LLEX,\n",
            "1 Failed download:\n",
            "- LLEX: No data found, symbol may be delisted\n",
            "1579 : LLNW,1580 : LLTC,\n",
            "1 Failed download:\n",
            "- LLTC: No data found for this date range, symbol may be delisted\n",
            "1581 : LMAT,1582 : LMBS,1583 : LMCA,\n",
            "1 Failed download:\n",
            "- LMCA: No data found for this date range, symbol may be delisted\n",
            "1584 : LMCB,\n",
            "1 Failed download:\n",
            "- LMCB: No data found for this date range, symbol may be delisted\n",
            "1585 : LMCK,\n",
            "1 Failed download:\n",
            "- LMCK: No data found, symbol may be delisted\n",
            "1586 : LMIA,\n",
            "1 Failed download:\n",
            "- LMIA: No data found for this date range, symbol may be delisted\n",
            "1587 : LMNR,1588 : LMNS,\n",
            "1 Failed download:\n",
            "- LMNS: No data found, symbol may be delisted\n",
            "1589 : LMNX,1590 : LMOS,\n",
            "1 Failed download:\n",
            "- LMOS: No data found for this date range, symbol may be delisted\n",
            "1591 : LMRK,1592 : LNBB,\n",
            "1 Failed download:\n",
            "- LNBB: No data found for this date range, symbol may be delisted\n",
            "1593 : LNCE,"
          ],
          "name": "stdout"
        },
        {
          "output_type": "error",
          "ename": "KeyboardInterrupt",
          "evalue": "ignored",
          "traceback": [
            "\u001b[0;31m---------------------------------------------------------------------------\u001b[0m",
            "\u001b[0;31mKeyboardInterrupt\u001b[0m                         Traceback (most recent call last)",
            "\u001b[0;32m<ipython-input-15-787d82385f90>\u001b[0m in \u001b[0;36m<module>\u001b[0;34m()\u001b[0m\n\u001b[1;32m     10\u001b[0m         \u001b[0;31m# download the stock price\u001b[0m\u001b[0;34m\u001b[0m\u001b[0;34m\u001b[0m\u001b[0;34m\u001b[0m\u001b[0m\n\u001b[1;32m     11\u001b[0m         \u001b[0mstock\u001b[0m \u001b[0;34m=\u001b[0m \u001b[0;34m[\u001b[0m\u001b[0;34m]\u001b[0m\u001b[0;34m\u001b[0m\u001b[0;34m\u001b[0m\u001b[0m\n\u001b[0;32m---> 12\u001b[0;31m         \u001b[0mstock\u001b[0m \u001b[0;34m=\u001b[0m \u001b[0myf\u001b[0m\u001b[0;34m.\u001b[0m\u001b[0mdownload\u001b[0m\u001b[0;34m(\u001b[0m\u001b[0mi\u001b[0m\u001b[0;34m,\u001b[0m\u001b[0mstart\u001b[0m\u001b[0;34m=\u001b[0m\u001b[0mstart\u001b[0m\u001b[0;34m,\u001b[0m \u001b[0mend\u001b[0m\u001b[0;34m=\u001b[0m\u001b[0mend\u001b[0m\u001b[0;34m,\u001b[0m \u001b[0mprogress\u001b[0m\u001b[0;34m=\u001b[0m\u001b[0;32mFalse\u001b[0m\u001b[0;34m)\u001b[0m\u001b[0;34m\u001b[0m\u001b[0;34m\u001b[0m\u001b[0m\n\u001b[0m\u001b[1;32m     13\u001b[0m \u001b[0;34m\u001b[0m\u001b[0m\n\u001b[1;32m     14\u001b[0m         \u001b[0;31m# append the individual stock prices\u001b[0m\u001b[0;34m\u001b[0m\u001b[0;34m\u001b[0m\u001b[0;34m\u001b[0m\u001b[0m\n",
            "\u001b[0;32m/usr/local/lib/python3.6/dist-packages/yfinance/multi.py\u001b[0m in \u001b[0;36mdownload\u001b[0;34m(tickers, start, end, actions, threads, group_by, auto_adjust, back_adjust, progress, period, interval, prepost, proxy, rounding, **kwargs)\u001b[0m\n\u001b[1;32m     93\u001b[0m                                    rounding=rounding)\n\u001b[1;32m     94\u001b[0m         \u001b[0;32mwhile\u001b[0m \u001b[0mlen\u001b[0m\u001b[0;34m(\u001b[0m\u001b[0mshared\u001b[0m\u001b[0;34m.\u001b[0m\u001b[0m_DFS\u001b[0m\u001b[0;34m)\u001b[0m \u001b[0;34m<\u001b[0m \u001b[0mlen\u001b[0m\u001b[0;34m(\u001b[0m\u001b[0mtickers\u001b[0m\u001b[0;34m)\u001b[0m\u001b[0;34m:\u001b[0m\u001b[0;34m\u001b[0m\u001b[0;34m\u001b[0m\u001b[0m\n\u001b[0;32m---> 95\u001b[0;31m             \u001b[0m_time\u001b[0m\u001b[0;34m.\u001b[0m\u001b[0msleep\u001b[0m\u001b[0;34m(\u001b[0m\u001b[0;36m0.01\u001b[0m\u001b[0;34m)\u001b[0m\u001b[0;34m\u001b[0m\u001b[0;34m\u001b[0m\u001b[0m\n\u001b[0m\u001b[1;32m     96\u001b[0m \u001b[0;34m\u001b[0m\u001b[0m\n\u001b[1;32m     97\u001b[0m     \u001b[0;31m# download synchronously\u001b[0m\u001b[0;34m\u001b[0m\u001b[0;34m\u001b[0m\u001b[0;34m\u001b[0m\u001b[0m\n",
            "\u001b[0;31mKeyboardInterrupt\u001b[0m: "
          ]
        }
      ]
    },
    {
      "cell_type": "code",
      "metadata": {
        "id": "QCebigD0LJHS"
      },
      "source": [
        "stock_final.head()"
      ],
      "execution_count": null,
      "outputs": []
    }
  ]
}